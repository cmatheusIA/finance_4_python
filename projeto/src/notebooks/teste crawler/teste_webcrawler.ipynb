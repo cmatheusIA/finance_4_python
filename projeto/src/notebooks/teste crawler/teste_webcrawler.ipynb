{
 "cells": [
  {
   "cell_type": "code",
   "execution_count": 1,
   "metadata": {},
   "outputs": [],
   "source": [
    "import sys"
   ]
  },
  {
   "cell_type": "code",
   "execution_count": 2,
   "metadata": {},
   "outputs": [],
   "source": [
    "sys.path.append('/mnt/o/finance_4_python/projeto/src/ingestao')"
   ]
  },
  {
   "cell_type": "code",
   "execution_count": 3,
   "metadata": {},
   "outputs": [],
   "source": [
    "from crawler.crawler import Crawler\n"
   ]
  },
  {
   "cell_type": "code",
   "execution_count": 4,
   "metadata": {},
   "outputs": [],
   "source": [
    "robot = Crawler()"
   ]
  },
  {
   "cell_type": "code",
   "execution_count": 5,
   "metadata": {},
   "outputs": [
    {
     "name": "stdout",
     "output_type": "stream",
     "text": [
      "[INFO] Iniciando robo de coleta\n",
      "[INFO] Dados coletados do indice ibov\n",
      "[INFO] Link onde vamos fazer download https://sistemaswebb3-listados.b3.com.br/indexPage/day/ibov?language=pt-br\n",
      "[INFO] Configurando  e iniciando  webdriver\n",
      "[INFO] acesando o https://sistemaswebb3-listados.b3.com.br/indexPage/day/ibov?language=pt-br\n",
      "[INFO] Iniciando o processo de configuração do buffer para salvar o arquivo\n",
      "[INFO] Criando diretorio\n",
      "[INFO] Checando se o diretorio ja existe\n",
      "[INFO] Salvando os arquivos\n",
      "[INFO] Arquivos salvos no caminho = /mnt/o/finance_4_python/projeto/src/data/ibov/IBOVDia_22-09-23.csv\n"
     ]
    }
   ],
   "source": [
    "robot.robot(sleep_num=5,indice='ibov')"
   ]
  },
  {
   "cell_type": "code",
   "execution_count": 6,
   "metadata": {},
   "outputs": [],
   "source": [
    "robot.robot_usa_tickets()"
   ]
  }
 ],
 "metadata": {
  "kernelspec": {
   "display_name": ".venv",
   "language": "python",
   "name": "python3"
  },
  "language_info": {
   "codemirror_mode": {
    "name": "ipython",
    "version": 3
   },
   "file_extension": ".py",
   "mimetype": "text/x-python",
   "name": "python",
   "nbconvert_exporter": "python",
   "pygments_lexer": "ipython3",
   "version": "3.10.13"
  },
  "orig_nbformat": 4
 },
 "nbformat": 4,
 "nbformat_minor": 2
}
