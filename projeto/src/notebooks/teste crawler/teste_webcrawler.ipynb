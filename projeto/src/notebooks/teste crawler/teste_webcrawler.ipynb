{
 "cells": [
  {
   "cell_type": "code",
   "execution_count": null,
   "metadata": {},
   "outputs": [],
   "source": [
    "import sys"
   ]
  },
  {
   "cell_type": "code",
   "execution_count": null,
   "metadata": {},
   "outputs": [],
   "source": [
    "sys.path.append('/mnt/o/finance_4_python/projeto/src/ingestao')"
   ]
  },
  {
   "cell_type": "code",
   "execution_count": null,
   "metadata": {},
   "outputs": [],
   "source": [
    "from crawler.crawler import Crawler\n"
   ]
  },
  {
   "cell_type": "code",
   "execution_count": null,
   "metadata": {},
   "outputs": [],
   "source": [
    "robot = Crawler()"
   ]
  },
  {
   "cell_type": "code",
   "execution_count": null,
   "metadata": {},
   "outputs": [],
   "source": [
    "info,lista=robot.get_symbol_by_country(\"Brazil\")"
   ]
  },
  {
   "cell_type": "code",
   "execution_count": null,
   "metadata": {},
   "outputs": [],
   "source": [
    "info"
   ]
  },
  {
   "cell_type": "code",
   "execution_count": 11,
   "metadata": {},
   "outputs": [],
   "source": [
    "import investpy as invpy"
   ]
  },
  {
   "cell_type": "code",
   "execution_count": 12,
   "metadata": {},
   "outputs": [
    {
     "data": {
      "text/plain": [
       "['argentina',\n",
       " 'brazil',\n",
       " 'canada',\n",
       " 'chile',\n",
       " 'colombia',\n",
       " 'costa rica',\n",
       " 'jamaica',\n",
       " 'mexico',\n",
       " 'peru',\n",
       " 'united states',\n",
       " 'venezuela',\n",
       " 'austria',\n",
       " 'belgium',\n",
       " 'bosnia',\n",
       " 'bulgaria',\n",
       " 'croatia',\n",
       " 'cyprus',\n",
       " 'czech republic',\n",
       " 'denmark',\n",
       " 'finland',\n",
       " 'france',\n",
       " 'germany',\n",
       " 'greece',\n",
       " 'hungary',\n",
       " 'iceland',\n",
       " 'ireland',\n",
       " 'italy',\n",
       " 'luxembourg',\n",
       " 'malta',\n",
       " 'montenegro',\n",
       " 'netherlands',\n",
       " 'norway',\n",
       " 'poland',\n",
       " 'portugal',\n",
       " 'romania',\n",
       " 'russia',\n",
       " 'serbia',\n",
       " 'slovakia',\n",
       " 'slovenia',\n",
       " 'spain',\n",
       " 'sweden',\n",
       " 'switzerland',\n",
       " 'turkey',\n",
       " 'ukraine',\n",
       " 'united kingdom',\n",
       " 'australia',\n",
       " 'bangladesh',\n",
       " 'china',\n",
       " 'hong kong',\n",
       " 'india',\n",
       " 'indonesia',\n",
       " 'japan',\n",
       " 'kazakhstan',\n",
       " 'malaysia',\n",
       " 'mongolia',\n",
       " 'new zealand',\n",
       " 'pakistan',\n",
       " 'philippines',\n",
       " 'singapore',\n",
       " 'south korea',\n",
       " 'sri lanka',\n",
       " 'taiwan',\n",
       " 'thailand',\n",
       " 'vietnam',\n",
       " 'bahrain',\n",
       " 'egypt',\n",
       " 'iraq',\n",
       " 'israel',\n",
       " 'jordan',\n",
       " 'kuwait',\n",
       " 'lebanon',\n",
       " 'oman',\n",
       " 'palestine',\n",
       " 'qatar',\n",
       " 'saudi arabia',\n",
       " 'dubai',\n",
       " 'botswana',\n",
       " 'ivory coast',\n",
       " 'kenya',\n",
       " 'malawi',\n",
       " 'mauritius',\n",
       " 'morocco',\n",
       " 'namibia',\n",
       " 'nigeria',\n",
       " 'rwanda',\n",
       " 'south africa',\n",
       " 'tanzania',\n",
       " 'tunisia',\n",
       " 'uganda',\n",
       " 'zambia',\n",
       " 'zimbabwe']"
      ]
     },
     "execution_count": 12,
     "metadata": {},
     "output_type": "execute_result"
    }
   ],
   "source": [
    "invpy.stocks.get_stock_countries()"
   ]
  },
  {
   "cell_type": "code",
   "execution_count": null,
   "metadata": {},
   "outputs": [],
   "source": [
    "lista"
   ]
  },
  {
   "cell_type": "code",
   "execution_count": null,
   "metadata": {},
   "outputs": [],
   "source": [
    "robot.robot(sleep_num=2,indice='ifil')"
   ]
  },
  {
   "cell_type": "code",
   "execution_count": null,
   "metadata": {},
   "outputs": [],
   "source": [
    "robot.robot_usa_tickets()"
   ]
  },
  {
   "cell_type": "code",
   "execution_count": null,
   "metadata": {},
   "outputs": [],
   "source": [
    "acoes, lista=robot.get_symbol_by_country('brazil')"
   ]
  },
  {
   "cell_type": "code",
   "execution_count": null,
   "metadata": {},
   "outputs": [],
   "source": [
    "acoes"
   ]
  },
  {
   "cell_type": "code",
   "execution_count": null,
   "metadata": {},
   "outputs": [],
   "source": [
    "acoes['symbol'][0]+'.SA'"
   ]
  },
  {
   "cell_type": "code",
   "execution_count": null,
   "metadata": {},
   "outputs": [],
   "source": [
    "acoes['symbol']=acoes['symbol']+'.SA'"
   ]
  },
  {
   "cell_type": "code",
   "execution_count": null,
   "metadata": {},
   "outputs": [],
   "source": [
    "a = [i+'.SA'for i in lista]"
   ]
  },
  {
   "cell_type": "code",
   "execution_count": null,
   "metadata": {},
   "outputs": [],
   "source": [
    "a"
   ]
  },
  {
   "cell_type": "code",
   "execution_count": null,
   "metadata": {},
   "outputs": [],
   "source": []
  }
 ],
 "metadata": {
  "kernelspec": {
   "display_name": ".venv",
   "language": "python",
   "name": "python3"
  },
  "language_info": {
   "codemirror_mode": {
    "name": "ipython",
    "version": 3
   },
   "file_extension": ".py",
   "mimetype": "text/x-python",
   "name": "python",
   "nbconvert_exporter": "python",
   "pygments_lexer": "ipython3",
   "version": "3.10.13"
  },
  "orig_nbformat": 4
 },
 "nbformat": 4,
 "nbformat_minor": 2
}
